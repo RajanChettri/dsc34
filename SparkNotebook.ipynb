{
 "cells": [
  {
   "cell_type": "code",
   "execution_count": 3,
   "metadata": {},
   "outputs": [],
   "source": [
    "import os\n",
    "import sys\n",
    "os.environ[\"PYSPARK_PYTHON\"]=\"/usr/bin/python3\"\n",
    "os.environ[\"PYSPARK_DRIVER_PYTHON\"]=\"/usr/bin/python3\"\n",
    "os.environ[\"PYSPARK_DRIVER_PYTHON_OPTS\"]=\"notebook --no-browser\"\n",
    "os.environ[\"JAVA_HOME\"] = \"/usr/java/jdk1.8.0_161/jre\"\n",
    "os.environ[\"SPARK_HOME\"] = \"/home/ec2-user/spark-2.4.4-bin-hadoop2.7\"\n",
    "os.environ[\"PYLIB\"] = os.environ[\"SPARK_HOME\"] + \"/python/lib\"\n",
    "sys.path.insert(0, os.environ[\"PYLIB\"] + \"/py4j-0.10.7-src.zip\")\n",
    "sys.path.insert(0, os.environ[\"PYLIB\"] + \"/pyspark.zip\")"
   ]
  },
  {
   "cell_type": "code",
   "execution_count": 4,
   "metadata": {},
   "outputs": [],
   "source": [
    "# let us import the pyspark\n",
    "import pyspark\n",
    "\n",
    "from pyspark import SparkContext\n",
    "\n",
    "sc= SparkContext()"
   ]
  },
  {
   "cell_type": "code",
   "execution_count": 5,
   "metadata": {},
   "outputs": [
    {
     "data": {
      "text/html": [
       "\n",
       "        <div>\n",
       "            <p><b>SparkContext</b></p>\n",
       "\n",
       "            <p><a href=\"http://ip-172-31-70-158.ec2.internal:4040\">Spark UI</a></p>\n",
       "\n",
       "            <dl>\n",
       "              <dt>Version</dt>\n",
       "                <dd><code>v2.4.4</code></dd>\n",
       "              <dt>Master</dt>\n",
       "                <dd><code>local[*]</code></dd>\n",
       "              <dt>AppName</dt>\n",
       "                <dd><code>pyspark-shell</code></dd>\n",
       "            </dl>\n",
       "        </div>\n",
       "        "
      ],
      "text/plain": [
       "<SparkContext master=local[*] appName=pyspark-shell>"
      ]
     },
     "execution_count": 5,
     "metadata": {},
     "output_type": "execute_result"
    }
   ],
   "source": [
    "sc"
   ]
  },
  {
   "cell_type": "code",
   "execution_count": 6,
   "metadata": {},
   "outputs": [
    {
     "data": {
      "text/plain": [
       "'/home/ec2-user'"
      ]
     },
     "execution_count": 6,
     "metadata": {},
     "output_type": "execute_result"
    }
   ],
   "source": [
    "# let us check where are we\n",
    "\n",
    "import os\n",
    "os.getcwd()"
   ]
  },
  {
   "cell_type": "code",
   "execution_count": 7,
   "metadata": {},
   "outputs": [],
   "source": [
    "# We are following word count demonstration using pyspark"
   ]
  },
  {
   "cell_type": "code",
   "execution_count": null,
   "metadata": {},
   "outputs": [],
   "source": []
  },
  {
   "cell_type": "code",
   "execution_count": 8,
   "metadata": {},
   "outputs": [],
   "source": [
    "# let us load the data\n",
    "\n",
    "word_rdd = sc.textFile('wordinput.txt')"
   ]
  },
  {
   "cell_type": "code",
   "execution_count": 9,
   "metadata": {},
   "outputs": [
    {
     "data": {
      "text/plain": [
       "wordinput.txt MapPartitionsRDD[1] at textFile at NativeMethodAccessorImpl.java:0"
      ]
     },
     "execution_count": 9,
     "metadata": {},
     "output_type": "execute_result"
    }
   ],
   "source": [
    "word_rdd"
   ]
  },
  {
   "cell_type": "code",
   "execution_count": 10,
   "metadata": {},
   "outputs": [
    {
     "data": {
      "text/plain": [
       "['i am the earth',\n",
       " 'i am the four winds blowing',\n",
       " 'i am the forest green',\n",
       " 'i am the earth']"
      ]
     },
     "execution_count": 10,
     "metadata": {},
     "output_type": "execute_result"
    }
   ],
   "source": [
    "# let us see the content of this rdd\n",
    "\n",
    "word_rdd.collect()"
   ]
  },
  {
   "cell_type": "code",
   "execution_count": null,
   "metadata": {},
   "outputs": [],
   "source": [
    "# first let us split it\n",
    "\n",
    "\n",
    "'i am the earth'.split(' ')=> ['i','am','the','earth']\n",
    "'i am the four winds blowing'.split(' ')=> ['i','am','the','four','winds','blowing']\n",
    "\n",
    "\n",
    "# result of map\n",
    "[['i','am','the','earth'],['i','am','the','four','winds','blowing']]\n",
    "\n",
    "# result of flatmap\n",
    "['i','am','the','earth','i','am','the','four','winds','blowing']"
   ]
  },
  {
   "cell_type": "code",
   "execution_count": 11,
   "metadata": {},
   "outputs": [],
   "source": [
    "rdd0 = word_rdd.flatMap(lambda line:  line.split(' '))"
   ]
  },
  {
   "cell_type": "code",
   "execution_count": 12,
   "metadata": {},
   "outputs": [
    {
     "data": {
      "text/plain": [
       "['i',\n",
       " 'am',\n",
       " 'the',\n",
       " 'earth',\n",
       " 'i',\n",
       " 'am',\n",
       " 'the',\n",
       " 'four',\n",
       " 'winds',\n",
       " 'blowing',\n",
       " 'i',\n",
       " 'am',\n",
       " 'the',\n",
       " 'forest',\n",
       " 'green',\n",
       " 'i',\n",
       " 'am',\n",
       " 'the',\n",
       " 'earth']"
      ]
     },
     "execution_count": 12,
     "metadata": {},
     "output_type": "execute_result"
    }
   ],
   "source": [
    "rdd0.collect()"
   ]
  },
  {
   "cell_type": "code",
   "execution_count": null,
   "metadata": {},
   "outputs": [],
   "source": [
    "('i',1) , ('am',1) , ('the',1)"
   ]
  },
  {
   "cell_type": "code",
   "execution_count": 13,
   "metadata": {},
   "outputs": [],
   "source": [
    "rdd1= rdd0.map(lambda item : (item,1))"
   ]
  },
  {
   "cell_type": "code",
   "execution_count": 14,
   "metadata": {},
   "outputs": [
    {
     "data": {
      "text/plain": [
       "[('i', 1),\n",
       " ('am', 1),\n",
       " ('the', 1),\n",
       " ('earth', 1),\n",
       " ('i', 1),\n",
       " ('am', 1),\n",
       " ('the', 1),\n",
       " ('four', 1),\n",
       " ('winds', 1),\n",
       " ('blowing', 1),\n",
       " ('i', 1),\n",
       " ('am', 1),\n",
       " ('the', 1),\n",
       " ('forest', 1),\n",
       " ('green', 1),\n",
       " ('i', 1),\n",
       " ('am', 1),\n",
       " ('the', 1),\n",
       " ('earth', 1)]"
      ]
     },
     "execution_count": 14,
     "metadata": {},
     "output_type": "execute_result"
    }
   ],
   "source": [
    "rdd1.collect()"
   ]
  },
  {
   "cell_type": "code",
   "execution_count": 15,
   "metadata": {},
   "outputs": [],
   "source": [
    "#let us visualize\n",
    "# let us assume the key is 'am'\n",
    "\n",
    "\n",
    "#(am,1)\n",
    "#(am,2)\n",
    "#(am,3)\n",
    "#(am,4)\n",
    "\n",
    "# a , b\n",
    "# 1   2\n",
    "# 3   3\n",
    "# 6   4\n",
    "# 10\n",
    "\n",
    "#return a\n",
    "# for key 'm' what is a 10  => ('am',10)\n",
    "\n",
    "\n",
    "rdd2=rdd1.reduceByKey(lambda a,b : a+b)"
   ]
  },
  {
   "cell_type": "code",
   "execution_count": 16,
   "metadata": {},
   "outputs": [
    {
     "data": {
      "text/plain": [
       "[('i', 4),\n",
       " ('am', 4),\n",
       " ('earth', 2),\n",
       " ('four', 1),\n",
       " ('green', 1),\n",
       " ('the', 4),\n",
       " ('winds', 1),\n",
       " ('blowing', 1),\n",
       " ('forest', 1)]"
      ]
     },
     "execution_count": 16,
     "metadata": {},
     "output_type": "execute_result"
    }
   ],
   "source": [
    "rdd2.collect()"
   ]
  },
  {
   "cell_type": "code",
   "execution_count": null,
   "metadata": {},
   "outputs": [],
   "source": [
    "#does agg. based on key"
   ]
  },
  {
   "cell_type": "code",
   "execution_count": null,
   "metadata": {},
   "outputs": [],
   "source": []
  },
  {
   "cell_type": "code",
   "execution_count": null,
   "metadata": {},
   "outputs": [],
   "source": [
    "# we want to find the wordcount.\n",
    "\n",
    "# logic/algo : we will split each word and convert it into a key/value pair\n",
    "\n",
    "# for eg.  (i,1) , (am,1) , (the,1)"
   ]
  },
  {
   "cell_type": "code",
   "execution_count": null,
   "metadata": {},
   "outputs": [],
   "source": []
  },
  {
   "cell_type": "code",
   "execution_count": null,
   "metadata": {},
   "outputs": [],
   "source": [
    "# Log Data Analysis"
   ]
  },
  {
   "cell_type": "code",
   "execution_count": 17,
   "metadata": {},
   "outputs": [],
   "source": [
    "rdd = sc.textFile('access_log')"
   ]
  },
  {
   "cell_type": "code",
   "execution_count": 18,
   "metadata": {},
   "outputs": [
    {
     "data": {
      "text/plain": [
       "4477843"
      ]
     },
     "execution_count": 18,
     "metadata": {},
     "output_type": "execute_result"
    }
   ],
   "source": [
    "# let us see how many records are tehre\n",
    "\n",
    "rdd.count()"
   ]
  },
  {
   "cell_type": "code",
   "execution_count": 19,
   "metadata": {},
   "outputs": [
    {
     "data": {
      "text/plain": [
       "['10.223.157.186 - - [15/Jul/2009:14:58:59 -0700] \"GET / HTTP/1.1\" 403 202',\n",
       " '10.223.157.186 - - [15/Jul/2009:14:58:59 -0700] \"GET /favicon.ico HTTP/1.1\" 404 209',\n",
       " '10.223.157.186 - - [15/Jul/2009:15:50:35 -0700] \"GET / HTTP/1.1\" 200 9157',\n",
       " '10.223.157.186 - - [15/Jul/2009:15:50:35 -0700] \"GET /assets/js/lowpro.js HTTP/1.1\" 200 10469',\n",
       " '10.223.157.186 - - [15/Jul/2009:15:50:35 -0700] \"GET /assets/css/reset.css HTTP/1.1\" 200 1014']"
      ]
     },
     "execution_count": 19,
     "metadata": {},
     "output_type": "execute_result"
    }
   ],
   "source": [
    "# let us see the sample data\n",
    "\n",
    "rdd.take(5)"
   ]
  },
  {
   "cell_type": "code",
   "execution_count": null,
   "metadata": {},
   "outputs": [],
   "source": []
  },
  {
   "cell_type": "code",
   "execution_count": null,
   "metadata": {},
   "outputs": [],
   "source": [
    "10.1.181.142 # let us see how many request this ip addr has sent over the complete period(1year)"
   ]
  },
  {
   "cell_type": "code",
   "execution_count": 21,
   "metadata": {},
   "outputs": [],
   "source": [
    "# among all lines in dataset\n",
    "\n",
    "# i am fetching only those lines where the ip address 10.1.181.142 is available"
   ]
  },
  {
   "cell_type": "code",
   "execution_count": 22,
   "metadata": {},
   "outputs": [],
   "source": [
    "rdd1 = rdd.filter(lambda line : '10.1.181.142' in line)"
   ]
  },
  {
   "cell_type": "code",
   "execution_count": 23,
   "metadata": {},
   "outputs": [
    {
     "data": {
      "text/plain": [
       "['10.1.181.142 - - [07/Jan/2010:02:28:47 -0800] \"GET / HTTP/1.1\" 200 4095',\n",
       " '10.1.181.142 - - [07/Jan/2010:02:28:47 -0800] \"GET /favicon.ico HTTP/1.1\" 200 1406',\n",
       " '10.1.181.142 - - [07/Jan/2010:02:28:47 -0800] \"GET /assets/css/combined.css HTTP/1.1\" 200 6373',\n",
       " '10.1.181.142 - - [07/Jan/2010:02:28:47 -0800] \"GET /assets/js/javascript_combined.js HTTP/1.1\" 200 20404',\n",
       " '10.1.181.142 - - [07/Jan/2010:02:28:48 -0800] \"GET /assets/img/play_icon.png HTTP/1.1\" 200 10827']"
      ]
     },
     "execution_count": 23,
     "metadata": {},
     "output_type": "execute_result"
    }
   ],
   "source": [
    "rdd1.take(5)"
   ]
  },
  {
   "cell_type": "code",
   "execution_count": null,
   "metadata": {},
   "outputs": [],
   "source": []
  },
  {
   "cell_type": "code",
   "execution_count": 24,
   "metadata": {},
   "outputs": [
    {
     "data": {
      "text/plain": [
       "10686"
      ]
     },
     "execution_count": 24,
     "metadata": {},
     "output_type": "execute_result"
    }
   ],
   "source": [
    "#the number of rows = number of request to server\n",
    "\n",
    "rdd1.count()"
   ]
  },
  {
   "cell_type": "code",
   "execution_count": null,
   "metadata": {},
   "outputs": [],
   "source": []
  },
  {
   "cell_type": "code",
   "execution_count": null,
   "metadata": {},
   "outputs": [],
   "source": [
    "# we did this request count for 1 IP, let us do it for all the IP(s)"
   ]
  },
  {
   "cell_type": "code",
   "execution_count": null,
   "metadata": {},
   "outputs": [],
   "source": []
  },
  {
   "cell_type": "code",
   "execution_count": null,
   "metadata": {},
   "outputs": [],
   "source": [
    "# let us extract IP address(s) from rdd"
   ]
  },
  {
   "cell_type": "code",
   "execution_count": null,
   "metadata": {},
   "outputs": [],
   "source": []
  },
  {
   "cell_type": "code",
   "execution_count": 25,
   "metadata": {},
   "outputs": [
    {
     "data": {
      "text/plain": [
       "'10.1.181.142'"
      ]
     },
     "execution_count": 25,
     "metadata": {},
     "output_type": "execute_result"
    }
   ],
   "source": [
    "#logic\n",
    "'10.1.181.142 - - [07/Jan/2010:02:28:47 -0800] \"GET / HTTP/1.1\" 200 4095'.split(' ')[0]"
   ]
  },
  {
   "cell_type": "code",
   "execution_count": null,
   "metadata": {},
   "outputs": [],
   "source": []
  },
  {
   "cell_type": "code",
   "execution_count": 26,
   "metadata": {},
   "outputs": [],
   "source": [
    "onlyIPRDD = rdd.map(lambda line : line.split(' ')[0])"
   ]
  },
  {
   "cell_type": "code",
   "execution_count": 27,
   "metadata": {},
   "outputs": [
    {
     "data": {
      "text/plain": [
       "['10.223.157.186',\n",
       " '10.223.157.186',\n",
       " '10.223.157.186',\n",
       " '10.223.157.186',\n",
       " '10.223.157.186',\n",
       " '10.223.157.186',\n",
       " '10.223.157.186',\n",
       " '10.223.157.186',\n",
       " '10.223.157.186',\n",
       " '10.223.157.186']"
      ]
     },
     "execution_count": 27,
     "metadata": {},
     "output_type": "execute_result"
    }
   ],
   "source": [
    "onlyIPRDD.take(10)"
   ]
  },
  {
   "cell_type": "code",
   "execution_count": 28,
   "metadata": {},
   "outputs": [
    {
     "data": {
      "text/plain": [
       "4477843"
      ]
     },
     "execution_count": 28,
     "metadata": {},
     "output_type": "execute_result"
    }
   ],
   "source": [
    "onlyIPRDD.count()"
   ]
  },
  {
   "cell_type": "code",
   "execution_count": 29,
   "metadata": {},
   "outputs": [],
   "source": [
    "# let us follow the same word count logic here.\n",
    "\n"
   ]
  },
  {
   "cell_type": "code",
   "execution_count": 30,
   "metadata": {},
   "outputs": [],
   "source": [
    "ipkvpair = onlyIPRDD.map(lambda ip : (ip,1))"
   ]
  },
  {
   "cell_type": "code",
   "execution_count": 31,
   "metadata": {},
   "outputs": [
    {
     "data": {
      "text/plain": [
       "[('10.223.157.186', 1),\n",
       " ('10.223.157.186', 1),\n",
       " ('10.223.157.186', 1),\n",
       " ('10.223.157.186', 1),\n",
       " ('10.223.157.186', 1),\n",
       " ('10.223.157.186', 1),\n",
       " ('10.223.157.186', 1),\n",
       " ('10.223.157.186', 1),\n",
       " ('10.223.157.186', 1),\n",
       " ('10.223.157.186', 1)]"
      ]
     },
     "execution_count": 31,
     "metadata": {},
     "output_type": "execute_result"
    }
   ],
   "source": [
    "ipkvpair.take(10)"
   ]
  },
  {
   "cell_type": "code",
   "execution_count": 32,
   "metadata": {},
   "outputs": [],
   "source": [
    "# let us reduce by key\n",
    "\n",
    "\n",
    "ipCount= ipkvpair.reduceByKey(lambda a,b : a+b)"
   ]
  },
  {
   "cell_type": "code",
   "execution_count": 33,
   "metadata": {},
   "outputs": [
    {
     "data": {
      "text/plain": [
       "[('10.82.30.199', 251),\n",
       " ('10.150.176.47', 12),\n",
       " ('10.73.238.200', 1162),\n",
       " ('10.55.240.134', 15),\n",
       " ('10.35.142.161', 215),\n",
       " ('10.243.164.90', 3),\n",
       " ('10.32.150.241', 17),\n",
       " ('10.76.90.213', 74),\n",
       " ('10.124.93.38', 691),\n",
       " ('10.203.135.85', 15)]"
      ]
     },
     "execution_count": 33,
     "metadata": {},
     "output_type": "execute_result"
    }
   ],
   "source": [
    "ipCount.take(10)"
   ]
  },
  {
   "cell_type": "code",
   "execution_count": null,
   "metadata": {},
   "outputs": [],
   "source": []
  },
  {
   "cell_type": "code",
   "execution_count": 38,
   "metadata": {},
   "outputs": [
    {
     "data": {
      "text/plain": [
       "251"
      ]
     },
     "execution_count": 38,
     "metadata": {},
     "output_type": "execute_result"
    }
   ],
   "source": [
    "# let us learn how we can sort this data by value i.e RequestCount\n",
    "\n",
    "#logic \n",
    "\n",
    "rddTuple=('10.82.30.199', 251)\n",
    "rddTuple[1]"
   ]
  },
  {
   "cell_type": "code",
   "execution_count": 35,
   "metadata": {},
   "outputs": [],
   "source": [
    "ip_sorted = ipCount.sortBy(lambda rddTuple : rddTuple[1],ascending=False)"
   ]
  },
  {
   "cell_type": "code",
   "execution_count": 37,
   "metadata": {},
   "outputs": [
    {
     "data": {
      "text/plain": [
       "[('10.216.113.172', 158614),\n",
       " ('10.220.112.1', 51942),\n",
       " ('10.173.141.213', 47503),\n",
       " ('10.240.144.183', 43592),\n",
       " ('10.41.69.177', 37554),\n",
       " ('10.169.128.121', 22516),\n",
       " ('10.211.47.159', 20866),\n",
       " ('10.96.173.111', 19667),\n",
       " ('10.203.77.198', 18878),\n",
       " ('10.31.77.18', 18721),\n",
       " ('10.118.250.30', 18282),\n",
       " ('10.56.48.40', 17850),\n",
       " ('10.194.74.106', 16806),\n",
       " ('10.53.149.243', 16709),\n",
       " ('10.50.199.54', 15717),\n",
       " ('10.247.111.104', 15583),\n",
       " ('10.104.62.79', 14807),\n",
       " ('10.200.184.212', 14420),\n",
       " ('10.152.195.138', 13775),\n",
       " ('10.238.101.239', 12450)]"
      ]
     },
     "execution_count": 37,
     "metadata": {},
     "output_type": "execute_result"
    }
   ],
   "source": [
    "ip_sorted.take(20)"
   ]
  },
  {
   "cell_type": "code",
   "execution_count": null,
   "metadata": {},
   "outputs": [],
   "source": []
  },
  {
   "cell_type": "code",
   "execution_count": 39,
   "metadata": {},
   "outputs": [],
   "source": [
    "# let us extract only those users (ip addr) which are hitting the server most\n",
    "\n",
    "rdd_heavy_users = ip_sorted.filter(lambda iptuple : iptuple[1]>20000)"
   ]
  },
  {
   "cell_type": "code",
   "execution_count": 41,
   "metadata": {},
   "outputs": [
    {
     "data": {
      "text/plain": [
       "[('10.216.113.172', 158614),\n",
       " ('10.220.112.1', 51942),\n",
       " ('10.173.141.213', 47503),\n",
       " ('10.240.144.183', 43592),\n",
       " ('10.41.69.177', 37554),\n",
       " ('10.169.128.121', 22516),\n",
       " ('10.211.47.159', 20866)]"
      ]
     },
     "execution_count": 41,
     "metadata": {},
     "output_type": "execute_result"
    }
   ],
   "source": [
    "rdd_heavy_users.collect()"
   ]
  },
  {
   "cell_type": "code",
   "execution_count": null,
   "metadata": {},
   "outputs": [],
   "source": []
  },
  {
   "cell_type": "code",
   "execution_count": 42,
   "metadata": {},
   "outputs": [],
   "source": [
    "rdd_dict = dict(rdd_heavy_users.collect())"
   ]
  },
  {
   "cell_type": "code",
   "execution_count": 43,
   "metadata": {},
   "outputs": [
    {
     "data": {
      "text/plain": [
       "{'10.216.113.172': 158614,\n",
       " '10.220.112.1': 51942,\n",
       " '10.173.141.213': 47503,\n",
       " '10.240.144.183': 43592,\n",
       " '10.41.69.177': 37554,\n",
       " '10.169.128.121': 22516,\n",
       " '10.211.47.159': 20866}"
      ]
     },
     "execution_count": 43,
     "metadata": {},
     "output_type": "execute_result"
    }
   ],
   "source": [
    "rdd_dict"
   ]
  },
  {
   "cell_type": "code",
   "execution_count": 44,
   "metadata": {},
   "outputs": [],
   "source": [
    "import pandas as pd"
   ]
  },
  {
   "cell_type": "code",
   "execution_count": 46,
   "metadata": {},
   "outputs": [
    {
     "data": {
      "text/html": [
       "<div>\n",
       "<style scoped>\n",
       "    .dataframe tbody tr th:only-of-type {\n",
       "        vertical-align: middle;\n",
       "    }\n",
       "\n",
       "    .dataframe tbody tr th {\n",
       "        vertical-align: top;\n",
       "    }\n",
       "\n",
       "    .dataframe thead th {\n",
       "        text-align: right;\n",
       "    }\n",
       "</style>\n",
       "<table border=\"1\" class=\"dataframe\">\n",
       "  <thead>\n",
       "    <tr style=\"text-align: right;\">\n",
       "      <th></th>\n",
       "      <th>IP</th>\n",
       "      <th>RequestCount</th>\n",
       "    </tr>\n",
       "  </thead>\n",
       "  <tbody>\n",
       "    <tr>\n",
       "      <th>0</th>\n",
       "      <td>10.216.113.172</td>\n",
       "      <td>158614</td>\n",
       "    </tr>\n",
       "    <tr>\n",
       "      <th>1</th>\n",
       "      <td>10.220.112.1</td>\n",
       "      <td>51942</td>\n",
       "    </tr>\n",
       "    <tr>\n",
       "      <th>2</th>\n",
       "      <td>10.173.141.213</td>\n",
       "      <td>47503</td>\n",
       "    </tr>\n",
       "    <tr>\n",
       "      <th>3</th>\n",
       "      <td>10.240.144.183</td>\n",
       "      <td>43592</td>\n",
       "    </tr>\n",
       "    <tr>\n",
       "      <th>4</th>\n",
       "      <td>10.41.69.177</td>\n",
       "      <td>37554</td>\n",
       "    </tr>\n",
       "    <tr>\n",
       "      <th>5</th>\n",
       "      <td>10.169.128.121</td>\n",
       "      <td>22516</td>\n",
       "    </tr>\n",
       "    <tr>\n",
       "      <th>6</th>\n",
       "      <td>10.211.47.159</td>\n",
       "      <td>20866</td>\n",
       "    </tr>\n",
       "  </tbody>\n",
       "</table>\n",
       "</div>"
      ],
      "text/plain": [
       "               IP  RequestCount\n",
       "0  10.216.113.172        158614\n",
       "1    10.220.112.1         51942\n",
       "2  10.173.141.213         47503\n",
       "3  10.240.144.183         43592\n",
       "4    10.41.69.177         37554\n",
       "5  10.169.128.121         22516\n",
       "6   10.211.47.159         20866"
      ]
     },
     "execution_count": 46,
     "metadata": {},
     "output_type": "execute_result"
    }
   ],
   "source": [
    "df = pd.DataFrame(rdd_dict.items(),columns=['IP','RequestCount'])\n",
    "df"
   ]
  },
  {
   "cell_type": "code",
   "execution_count": 47,
   "metadata": {},
   "outputs": [],
   "source": [
    "import seaborn as sns"
   ]
  },
  {
   "cell_type": "code",
   "execution_count": 48,
   "metadata": {},
   "outputs": [
    {
     "data": {
      "text/plain": [
       "<seaborn.axisgrid.JointGrid at 0x7f5d4fce7810>"
      ]
     },
     "execution_count": 48,
     "metadata": {},
     "output_type": "execute_result"
    },
    {
     "data": {
      "image/png": "[encoded data removed]",
      "text/plain": [
       "<Figure size 432x432 with 3 Axes>"
      ]
     },
     "metadata": {
      "needs_background": "light"
     },
     "output_type": "display_data"
    }
   ],
   "source": [
    "sns.jointplot(x='IP',y='RequestCount',data=df)"
   ]
  },
  {
   "cell_type": "code",
   "execution_count": null,
   "metadata": {},
   "outputs": [],
   "source": []
  }
 ],
 "metadata": {
  "kernelspec": {
   "display_name": "Python 3",
   "language": "python",
   "name": "python3"
  },
  "language_info": {
   "codemirror_mode": {
    "name": "ipython",
    "version": 3
   },
   "file_extension": ".py",
   "mimetype": "text/x-python",
   "name": "python",
   "nbconvert_exporter": "python",
   "pygments_lexer": "ipython3",
   "version": "3.7.9"
  }
 },
 "nbformat": 4,
 "nbformat_minor": 4
}
